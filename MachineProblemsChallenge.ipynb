{
 "cells": [
  {
   "cell_type": "markdown",
   "metadata": {},
   "source": [
    "# Machine Problems Challenge "
   ]
  },
  {
   "cell_type": "markdown",
   "metadata": {},
   "source": [
    "# Level 1"
   ]
  },
  {
   "cell_type": "markdown",
   "metadata": {},
   "source": [
    "### 1.1. Swap rows\n",
    "\n",
    "Using array indexing, swap rows 1 and 2 of the array: \n",
    "\n",
    "```\n",
    "array([[0, 1, 2],\n",
    "       [3, 4, 5],\n",
    "       [6, 7, 8]])\n",
    "```\n",
    "\n",
    "Output\n",
    "```\n",
    "array([[0, 1, 2],\n",
    "       [6, 7, 8],\n",
    "       [3, 4, 5]])\n",
    "```"
   ]
  },
  {
   "cell_type": "code",
   "execution_count": 1,
   "metadata": {
    "ExecuteTime": {
     "end_time": "2020-04-18T15:01:50.148923Z",
     "start_time": "2020-04-18T15:01:50.129941Z"
    }
   },
   "outputs": [
    {
     "data": {
      "text/plain": [
       "array([[0, 1, 2],\n",
       "       [6, 7, 8],\n",
       "       [3, 4, 5]])"
      ]
     },
     "execution_count": 1,
     "metadata": {},
     "output_type": "execute_result"
    }
   ],
   "source": [
    "import numpy as np\n",
    "a=np.array([[0, 1, 2],[3, 4, 5],[6, 7, 8]])\n",
    "a[[0,2,1]]"
   ]
  },
  {
   "cell_type": "markdown",
   "metadata": {
    "ExecuteTime": {
     "end_time": "2020-04-18T14:54:24.027506Z",
     "start_time": "2020-04-18T14:54:24.002520Z"
    }
   },
   "source": [
    "### 1.2. Swap columns\n",
    "\n",
    "Using array indexing, swap columns 1 and 2 of the array: \n",
    "\n",
    "```\n",
    "array([[0, 1, 2],\n",
    "       [3, 4, 5],\n",
    "       [6, 7, 8]])\n",
    "```\n",
    "\n",
    "Output\n",
    "```\n",
    "array([[0, 2, 1],\n",
    "       [3, 5, 4],\n",
    "       [6, 8, 7]])\n",
    "```"
   ]
  },
  {
   "cell_type": "code",
   "execution_count": 2,
   "metadata": {
    "ExecuteTime": {
     "end_time": "2020-04-18T15:04:13.634392Z",
     "start_time": "2020-04-18T15:04:13.618400Z"
    }
   },
   "outputs": [
    {
     "data": {
      "text/plain": [
       "array([[0, 2, 1],\n",
       "       [3, 5, 4],\n",
       "       [6, 8, 7]])"
      ]
     },
     "execution_count": 2,
     "metadata": {},
     "output_type": "execute_result"
    }
   ],
   "source": [
    "a[:,[0,2,1]]"
   ]
  },
  {
   "cell_type": "markdown",
   "metadata": {},
   "source": [
    "### 1.3 Normalize an array\n",
    "Define a function `normalize` that takes in an array `input_array` and converts all of its elements to its normalized form by the formula\n",
    "$ normed  = \\frac{element - min}{max - min}$\n",
    "\n",
    "that is, array minimum is set to have a value 0, array maximum has value 1, and all other elements are linearly scaled in between.\n",
    "\n",
    "Test it for array\n",
    "\n",
    "```\n",
    "array([[86, 80, 95],\n",
    "       [96, 91, 70],\n",
    "       [92, 82, 81]])\n",
    "```"
   ]
  },
  {
   "cell_type": "code",
   "execution_count": 3,
   "metadata": {
    "ExecuteTime": {
     "end_time": "2020-04-18T15:15:31.239202Z",
     "start_time": "2020-04-18T15:15:31.228208Z"
    }
   },
   "outputs": [
    {
     "data": {
      "text/plain": [
       "array([[0.61538462, 0.38461538, 0.96153846],\n",
       "       [1.        , 0.80769231, 0.        ],\n",
       "       [0.84615385, 0.46153846, 0.42307692]])"
      ]
     },
     "execution_count": 3,
     "metadata": {},
     "output_type": "execute_result"
    }
   ],
   "source": [
    "b=np.array([[86, 80, 95],[96, 91, 70], [92, 82, 81]])\n",
    "\n",
    "def normalize(input_array):\n",
    "    return (input_array-np.min(input_array))/(np.max(input_array)-np.min(input_array))\n",
    "\n",
    "normalize(b)"
   ]
  },
  {
   "cell_type": "markdown",
   "metadata": {
    "ExecuteTime": {
     "end_time": "2020-04-18T15:15:31.617349Z",
     "start_time": "2020-04-18T15:15:31.584368Z"
    }
   },
   "source": []
  },
  {
   "cell_type": "markdown",
   "metadata": {},
   "source": [
    "# Level 2"
   ]
  },
  {
   "cell_type": "markdown",
   "metadata": {},
   "source": [
    "### 2.1. Alphabet index cipher\n",
    "Define a function `alphabet_index_cipher` that replaces all alphabet characters in an input string with its index position in the alphabet.\n",
    "\n",
    "Fix all characters to lowercase and set spaces = 0\n",
    "\n",
    "*Desired Output*:\n",
    "```\n",
    "this_string = \"eskwelabs the best\"\n",
    "\n",
    "output = '51911235121219020850251920'\n",
    "```\n",
    "\n",
    "\n"
   ]
  },
  {
   "cell_type": "code",
   "execution_count": 4,
   "metadata": {
    "ExecuteTime": {
     "end_time": "2020-04-18T13:55:32.689829Z",
     "start_time": "2020-04-18T13:55:32.659846Z"
    }
   },
   "outputs": [
    {
     "data": {
      "text/plain": [
       "'51911235121219020850251920'"
      ]
     },
     "execution_count": 4,
     "metadata": {},
     "output_type": "execute_result"
    }
   ],
   "source": [
    "def alphabet_index_cipher(mystring):\n",
    "    alphabet = [' ', 'a', 'b', 'c', 'd', 'e', 'f', 'g', 'h', 'i', 'j','k', 'l', 'm', 'n', 'o', 'p', 'q', 'r', 's', 't', 'u', 'v', 'w', 'x', 'y', 'z']\n",
    "    output=''\n",
    "    for i in mystring:\n",
    "        output += str(alphabet.index(i))\n",
    "    return output\n",
    "\n",
    "alphabet_index_cipher(\"eskwelabs the best\")"
   ]
  },
  {
   "cell_type": "markdown",
   "metadata": {},
   "source": [
    "### 2.2 Caesar cipher\n",
    "Named after Julius Caesar, the Caesar cipher is one of the earliest known and simplest ciphers and was used to communicate orders with his generals. It is a type of substitution cipher in which each letter in the plaintext is 'shifted' a certain number of places down the alphabet. For example, with a shift of 1, A would be replaced by B, B would become C, and so on. \n",
    "\n",
    "Define a function `caesar_cipher` that takes in the input string and a nonnegative shift value `shift` and returns the encoded Caesar cipher of the string\n",
    "\n",
    "*Desired Output*:\n",
    "```\n",
    "plaintext:  defend the east wall of the castle\n",
    "ciphertext with shift =1: efgfoe uif fbtu xbmm pg uif dbtumf\n",
    "```"
   ]
  },
  {
   "cell_type": "code",
   "execution_count": 5,
   "metadata": {
    "ExecuteTime": {
     "end_time": "2020-04-18T14:08:01.387987Z",
     "start_time": "2020-04-18T14:08:01.361002Z"
    }
   },
   "outputs": [
    {
     "name": "stdout",
     "output_type": "stream",
     "text": [
      "Text  : defend the east wall of the castle\n",
      "Shift : 1\n",
      "Cipher: efgfoe uif fbtu xbmm pg uif dbtumf\n"
     ]
    }
   ],
   "source": [
    "def caesar_cipher(mystring, shift): \n",
    "    result = \"\" \n",
    "  \n",
    "    # traverse text \n",
    "    for i in range(len(mystring)): \n",
    "        char = mystring[i] \n",
    "        \n",
    "        if char==' ':\n",
    "            result+=' '\n",
    "        else:\n",
    "            result += chr((ord(char) + shift - 97) % 26 + 97) \n",
    "        \n",
    "    return result \n",
    "  \n",
    "mystring = \"defend the east wall of the castle\"\n",
    "shift = 1\n",
    "\n",
    "print(\"Text  : \" + mystring) \n",
    "print(\"Shift : \" + str(shift)) \n",
    "print(\"Cipher: \" + caesar_cipher(mystring,shift)) "
   ]
  },
  {
   "cell_type": "markdown",
   "metadata": {},
   "source": [
    "# Level 3"
   ]
  },
  {
   "cell_type": "markdown",
   "metadata": {},
   "source": [
    "### 3.1 Perfect numbers\n",
    "A perfect number is any positive integer > 1 which is equal to the sum of its proper divisors (all its divisors except for itself).\n",
    "\n",
    "Use loops and/or list comprehensions to generate the list of all perfect numbers less than 10000.\n",
    "\n",
    "Hint: \n",
    "1. It might be helpful to first define a function / write a list comprehension to find the factors of a number\n",
    "2. The `set` built-in function, which gets unique elements in a list, would be useful\n"
   ]
  },
  {
   "cell_type": "code",
   "execution_count": 6,
   "metadata": {
    "ExecuteTime": {
     "end_time": "2020-04-18T14:52:41.020100Z",
     "start_time": "2020-04-18T14:52:29.296799Z"
    }
   },
   "outputs": [
    {
     "name": "stdout",
     "output_type": "stream",
     "text": [
      "6 28 496 8128 "
     ]
    }
   ],
   "source": [
    "numbers = range(2,10000)\n",
    "\n",
    "import math\n",
    "\n",
    "for num in numbers:\n",
    "    ans,div=1,2\n",
    "    while (div*div<num):\n",
    "        if(num % div == 0):\n",
    "            ans+=div+num//div\n",
    "        div+=1\n",
    "    if (ans == num): print(num, end=' ')    "
   ]
  },
  {
   "cell_type": "markdown",
   "metadata": {},
   "source": [
    "### 3.2 Erathosthenes sieve\n",
    "\n",
    "The following is a description of Erathosthenes (276-194 BCE) algorithm to find all the prime numbers less than or equal to a given integer n:\n",
    "\n",
    "Watch: https://www.youtube.com/watch?v=9m2cdWorIq8\n",
    "\n",
    "Find all prime numbers from 1 to 500. Implement this using a combination of for/while loops and list comprehension. \n",
    "\n",
    "Hint: For those attempting the pure list comprehension implementation, the `set` built-in function, which gets unique elements in a list, would be useful"
   ]
  },
  {
   "cell_type": "code",
   "execution_count": 7,
   "metadata": {
    "ExecuteTime": {
     "end_time": "2020-04-18T14:32:52.031063Z",
     "start_time": "2020-04-18T14:32:51.449395Z"
    }
   },
   "outputs": [
    {
     "name": "stdout",
     "output_type": "stream",
     "text": [
      "[2, 3, 5, 7, 11, 13, 17, 19, 23, 29, 31, 37, 41, 43, 47, 53, 59, 61, 67, 71, 73, 79, 83, 89, 97, 101, 103, 107, 109, 113, 127, 131, 137, 139, 149, 151, 157, 163, 167, 173, 179, 181, 191, 193, 197, 199, 211, 223, 227, 229, 233, 239, 241, 251, 257, 263, 269, 271, 277, 281, 283, 293, 307, 311, 313, 317, 331, 337, 347, 349, 353, 359, 367, 373, 379, 383, 389, 397, 401, 409, 419, 421, 431, 433, 439, 443, 449, 457, 461, 463, 467, 479, 487, 491, 499]\n"
     ]
    }
   ],
   "source": [
    "numbers = range(2,500)\n",
    "\n",
    "prime = [2]\n",
    "for i in numbers:\n",
    "    count = 0\n",
    "    for j in prime:\n",
    "        if i%j == 0:\n",
    "            break\n",
    "        else:\n",
    "            count += 1\n",
    "    if count==len(prime):\n",
    "        prime.append(i)\n",
    "print(prime)"
   ]
  }
 ],
 "metadata": {
  "kernelspec": {
   "display_name": "Python 3",
   "language": "python",
   "name": "python3"
  },
  "language_info": {
   "codemirror_mode": {
    "name": "ipython",
    "version": 3
   },
   "file_extension": ".py",
   "mimetype": "text/x-python",
   "name": "python",
   "nbconvert_exporter": "python",
   "pygments_lexer": "ipython3",
   "version": "3.7.3"
  }
 },
 "nbformat": 4,
 "nbformat_minor": 2
}
