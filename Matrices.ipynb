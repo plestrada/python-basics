{
 "cells": [
  {
   "cell_type": "markdown",
   "metadata": {},
   "source": [
    "# Exercises on matrices"
   ]
  },
  {
   "cell_type": "code",
   "execution_count": 1,
   "metadata": {},
   "outputs": [],
   "source": [
    "import numpy as np"
   ]
  },
  {
   "cell_type": "markdown",
   "metadata": {},
   "source": [
    "1. Create a function which returns a __copy of nested lists of numbers__ such that the lists are not aliases"
   ]
  },
  {
   "cell_type": "code",
   "execution_count": 2,
   "metadata": {},
   "outputs": [
    {
     "name": "stdout",
     "output_type": "stream",
     "text": [
      "Finding tests in NoName\n",
      "Trying:\n",
      "    copy_matrix([[1, 2], [3, 4]])\n",
      "Expecting:\n",
      "    [[1, 2], [3, 4]]\n",
      "ok\n",
      "Trying:\n",
      "    copy_matrix([[1, 2, 3], [4, 5, 6]])\n",
      "Expecting:\n",
      "    [[1, 2, 3], [4, 5, 6]]\n",
      "ok\n",
      "Trying:\n",
      "    copy_matrix([[1, 2], [3, 4], [5, 6], [7, 8]])\n",
      "Expecting:\n",
      "    [[1, 2], [3, 4], [5, 6], [7, 8]]\n",
      "ok\n",
      "Trying:\n",
      "    m = [[1, 0, 0], [0, 2, 0], [0, 0, 3]]\n",
      "Expecting nothing\n",
      "ok\n",
      "Trying:\n",
      "    copyofm = copy_matrix(m)\n",
      "Expecting nothing\n",
      "ok\n",
      "Trying:\n",
      "    copyofm\n",
      "Expecting:\n",
      "    [[1, 0, 0], [0, 2, 0], [0, 0, 3]]\n",
      "ok\n",
      "Trying:\n",
      "    for row_num, row in enumerate(copyofm):\n",
      "        for col_num, col_val in enumerate(row):\n",
      "            copyofm[row_num][col_num] = 42\n",
      "Expecting nothing\n",
      "ok\n",
      "Trying:\n",
      "    copyofm\n",
      "Expecting:\n",
      "    [[42, 42, 42], [42, 42, 42], [42, 42, 42]]\n",
      "ok\n",
      "Trying:\n",
      "    m\n",
      "Expecting:\n",
      "    [[1, 0, 0], [0, 2, 0], [0, 0, 3]]\n",
      "ok\n"
     ]
    }
   ],
   "source": [
    "def copy_matrix(matrix):\n",
    "    \"\"\"\n",
    "      >>> copy_matrix([[1, 2], [3, 4]])\n",
    "      [[1, 2], [3, 4]]\n",
    "      >>> copy_matrix([[1, 2, 3], [4, 5, 6]])\n",
    "      [[1, 2, 3], [4, 5, 6]]\n",
    "      >>> copy_matrix([[1, 2], [3, 4], [5, 6], [7, 8]])\n",
    "      [[1, 2], [3, 4], [5, 6], [7, 8]]\n",
    "      >>> m = [[1, 0, 0], [0, 2, 0], [0, 0, 3]]\n",
    "      >>> copyofm = copy_matrix(m)\n",
    "      >>> copyofm\n",
    "      [[1, 0, 0], [0, 2, 0], [0, 0, 3]]\n",
    "      >>> for row_num, row in enumerate(copyofm):\n",
    "      ...     for col_num, col_val in enumerate(row):\n",
    "      ...         copyofm[row_num][col_num] = 42\n",
    "      ...\n",
    "      >>> copyofm\n",
    "      [[42, 42, 42], [42, 42, 42], [42, 42, 42]]\n",
    "      >>> m\n",
    "      [[1, 0, 0], [0, 2, 0], [0, 0, 3]]\n",
    "    \"\"\"\n",
    "    matrix=np.array(matrix)\n",
    "    list_=[]\n",
    "    for i in range(len(matrix)):\n",
    "        list_.append(matrix[i,].tolist())\n",
    "    return list_\n",
    "\n",
    "if __name__ == \"__main__\":\n",
    "    import doctest\n",
    "    doctest.run_docstring_examples(copy_matrix, globals(), verbose = True)"
   ]
  },
  {
   "cell_type": "markdown",
   "metadata": {},
   "source": [
    "2. Create functions that __add rows and columns of a matrix__"
   ]
  },
  {
   "cell_type": "code",
   "execution_count": 3,
   "metadata": {},
   "outputs": [
    {
     "name": "stdout",
     "output_type": "stream",
     "text": [
      "Finding tests in NoName\n",
      "Trying:\n",
      "    m = [[0, 0], [0, 0]]\n",
      "Expecting nothing\n",
      "ok\n",
      "Trying:\n",
      "    add_row(m)\n",
      "Expecting:\n",
      "    [[0, 0], [0, 0], [0, 0]]\n",
      "ok\n",
      "Trying:\n",
      "    n = [[3, 2, 5], [1, 4, 7]]\n",
      "Expecting nothing\n",
      "ok\n",
      "Trying:\n",
      "    add_row(n)\n",
      "Expecting:\n",
      "    [[3, 2, 5], [1, 4, 7], [0, 0, 0]]\n",
      "ok\n",
      "Trying:\n",
      "    n\n",
      "Expecting:\n",
      "    [[3, 2, 5], [1, 4, 7]]\n",
      "ok\n"
     ]
    }
   ],
   "source": [
    "from copy import deepcopy\n",
    "\n",
    "def add_row(matrix):\n",
    "    \"\"\"\n",
    "      >>> m = [[0, 0], [0, 0]]\n",
    "      >>> add_row(m)\n",
    "      [[0, 0], [0, 0], [0, 0]]\n",
    "      >>> n = [[3, 2, 5], [1, 4, 7]]\n",
    "      >>> add_row(n)\n",
    "      [[3, 2, 5], [1, 4, 7], [0, 0, 0]]\n",
    "      >>> n\n",
    "      [[3, 2, 5], [1, 4, 7]]\n",
    "    \"\"\"\n",
    "    new = deepcopy(matrix)\n",
    "    new.append([int(i) for i in list(np.zeros(len(matrix[0])))])\n",
    "    return new\n",
    "\n",
    "if __name__ == \"__main__\":\n",
    "    import doctest\n",
    "    doctest.run_docstring_examples(add_row, globals(), verbose = True)"
   ]
  },
  {
   "cell_type": "code",
   "execution_count": 4,
   "metadata": {},
   "outputs": [
    {
     "name": "stdout",
     "output_type": "stream",
     "text": [
      "Finding tests in NoName\n",
      "Trying:\n",
      "    m = [[0, 0], [0, 0]]\n",
      "Expecting nothing\n",
      "ok\n",
      "Trying:\n",
      "    add_column(m)\n",
      "Expecting:\n",
      "    [[0, 0, 0], [0, 0, 0]]\n",
      "ok\n",
      "Trying:\n",
      "    n = [[3, 2], [5, 1], [4, 7]]\n",
      "Expecting nothing\n",
      "ok\n",
      "Trying:\n",
      "    add_column(n)\n",
      "Expecting:\n",
      "    [[3, 2, 0], [5, 1, 0], [4, 7, 0]]\n",
      "ok\n",
      "Trying:\n",
      "    n\n",
      "Expecting:\n",
      "    [[3, 2], [5, 1], [4, 7]]\n",
      "ok\n"
     ]
    }
   ],
   "source": [
    "def add_column(matrix):\n",
    "    \"\"\"\n",
    "      >>> m = [[0, 0], [0, 0]]\n",
    "      >>> add_column(m)\n",
    "      [[0, 0, 0], [0, 0, 0]]\n",
    "      >>> n = [[3, 2], [5, 1], [4, 7]]\n",
    "      >>> add_column(n)\n",
    "      [[3, 2, 0], [5, 1, 0], [4, 7, 0]]\n",
    "      >>> n\n",
    "      [[3, 2], [5, 1], [4, 7]]\n",
    "    \"\"\"\n",
    "    new = deepcopy(matrix)\n",
    "    for i in new:\n",
    "        i.append(0)\n",
    "    return new\n",
    "\n",
    "if __name__ == \"__main__\":\n",
    "    import doctest\n",
    "    doctest.run_docstring_examples(add_column, globals(), verbose = True)"
   ]
  },
  {
   "cell_type": "markdown",
   "metadata": {},
   "source": [
    "3. Write a function __add_matrices(m1, m2)__ that adds m1 and m2 and returns a new matrix containing their sum. Assume that m1 and m2 are the same size."
   ]
  },
  {
   "cell_type": "code",
   "execution_count": 5,
   "metadata": {
    "scrolled": false
   },
   "outputs": [
    {
     "name": "stdout",
     "output_type": "stream",
     "text": [
      "Finding tests in NoName\n",
      "Trying:\n",
      "    a = [[1, 2], [3, 4]]\n",
      "Expecting nothing\n",
      "ok\n",
      "Trying:\n",
      "    b = [[2, 2], [2, 2]]\n",
      "Expecting nothing\n",
      "ok\n",
      "Trying:\n",
      "    add_matrices(a, b)\n",
      "Expecting:\n",
      "    [[3, 4], [5, 6]]\n",
      "ok\n",
      "Trying:\n",
      "    c = [[8, 2], [3, 4], [5, 7]]\n",
      "Expecting nothing\n",
      "ok\n",
      "Trying:\n",
      "    d = [[3, 2], [9, 2], [10, 12]]\n",
      "Expecting nothing\n",
      "ok\n",
      "Trying:\n",
      "    add_matrices(c, d)\n",
      "Expecting:\n",
      "    [[11, 4], [12, 6], [15, 19]]\n",
      "ok\n",
      "Trying:\n",
      "    c\n",
      "Expecting:\n",
      "    [[8, 2], [3, 4], [5, 7]]\n",
      "ok\n",
      "Trying:\n",
      "    d\n",
      "Expecting:\n",
      "    [[3, 2], [9, 2], [10, 12]]\n",
      "ok\n"
     ]
    }
   ],
   "source": [
    "def add_matrices(m1, m2):\n",
    "    \"\"\"\n",
    "      >>> a = [[1, 2], [3, 4]]\n",
    "      >>> b = [[2, 2], [2, 2]]\n",
    "      >>> add_matrices(a, b)\n",
    "      [[3, 4], [5, 6]]\n",
    "      >>> c = [[8, 2], [3, 4], [5, 7]]\n",
    "      >>> d = [[3, 2], [9, 2], [10, 12]]\n",
    "      >>> add_matrices(c, d)\n",
    "      [[11, 4], [12, 6], [15, 19]]\n",
    "      >>> c\n",
    "      [[8, 2], [3, 4], [5, 7]]\n",
    "      >>> d\n",
    "      [[3, 2], [9, 2], [10, 12]]\n",
    "   \"\"\"\n",
    "    sums=[]\n",
    "    for i in range(len(m1)):\n",
    "        sums.append(list(np.array(m1)[i]+np.array(m2)[i]))\n",
    "    return sums\n",
    "\n",
    "if __name__ == \"__main__\":\n",
    "    import doctest\n",
    "    doctest.run_docstring_examples(add_matrices, globals(), verbose = True)"
   ]
  },
  {
   "cell_type": "markdown",
   "metadata": {},
   "source": [
    "4. Write a function __scalar_mult(s, m)__ that multiplies a matrix, m, by a scalar, s."
   ]
  },
  {
   "cell_type": "code",
   "execution_count": 6,
   "metadata": {},
   "outputs": [
    {
     "name": "stdout",
     "output_type": "stream",
     "text": [
      "Finding tests in NoName\n",
      "Trying:\n",
      "    a = [[1, 2], [3, 4]]\n",
      "Expecting nothing\n",
      "ok\n",
      "Trying:\n",
      "    scalar_mult(3, a)\n",
      "Expecting:\n",
      "    [[3, 6], [9, 12]]\n",
      "ok\n",
      "Trying:\n",
      "    b = [[3, 5, 7], [1, 1, 1], [0, 2, 0], [2, 2, 3]]\n",
      "Expecting nothing\n",
      "ok\n",
      "Trying:\n",
      "    scalar_mult(10, b)\n",
      "Expecting:\n",
      "    [[30, 50, 70], [10, 10, 10], [0, 20, 0], [20, 20, 30]]\n",
      "ok\n",
      "Trying:\n",
      "    b\n",
      "Expecting:\n",
      "    [[3, 5, 7], [1, 1, 1], [0, 2, 0], [2, 2, 3]]\n",
      "ok\n"
     ]
    }
   ],
   "source": [
    " def scalar_mult(s, m):\n",
    "    \"\"\"\n",
    "      >>> a = [[1, 2], [3, 4]]\n",
    "      >>> scalar_mult(3, a)\n",
    "      [[3, 6], [9, 12]]\n",
    "      >>> b = [[3, 5, 7], [1, 1, 1], [0, 2, 0], [2, 2, 3]]\n",
    "      >>> scalar_mult(10, b)\n",
    "      [[30, 50, 70], [10, 10, 10], [0, 20, 0], [20, 20, 30]]\n",
    "      >>> b\n",
    "      [[3, 5, 7], [1, 1, 1], [0, 2, 0], [2, 2, 3]]\n",
    "    \"\"\"\n",
    "    new_m=np.array(m)\n",
    "    scalprod=[]\n",
    "    for i in range(len(new_m)):\n",
    "        scalprod.append(list(s*new_m[i]))\n",
    "    return scalprod\n",
    "\n",
    "if __name__ == \"__main__\":\n",
    "    import doctest\n",
    "    doctest.run_docstring_examples(scalar_mult, globals(), verbose = True)"
   ]
  },
  {
   "cell_type": "markdown",
   "metadata": {},
   "source": [
    "5. Write functions __row_times_column__ and __matrix_mult__"
   ]
  },
  {
   "cell_type": "code",
   "execution_count": 7,
   "metadata": {},
   "outputs": [
    {
     "name": "stdout",
     "output_type": "stream",
     "text": [
      "Finding tests in NoName\n",
      "Trying:\n",
      "    row_times_column([[1, 2], [3, 4]], 0, [[5, 6], [7, 8]], 0)\n",
      "Expecting:\n",
      "    19\n",
      "ok\n",
      "Trying:\n",
      "    row_times_column([[1, 2], [3, 4]], 0, [[5, 6], [7, 8]], 1)\n",
      "Expecting:\n",
      "    22\n",
      "ok\n",
      "Trying:\n",
      "    row_times_column([[1, 2], [3, 4]], 1, [[5, 6], [7, 8]], 0)\n",
      "Expecting:\n",
      "    43\n",
      "ok\n",
      "Trying:\n",
      "    row_times_column([[1, 2], [3, 4]], 1, [[5, 6], [7, 8]], 1)\n",
      "Expecting:\n",
      "    50\n",
      "ok\n"
     ]
    }
   ],
   "source": [
    "def row_times_column(m1, row, m2, column):\n",
    "    \"\"\"\n",
    "      >>> row_times_column([[1, 2], [3, 4]], 0, [[5, 6], [7, 8]], 0)\n",
    "      19\n",
    "      >>> row_times_column([[1, 2], [3, 4]], 0, [[5, 6], [7, 8]], 1)\n",
    "      22\n",
    "      >>> row_times_column([[1, 2], [3, 4]], 1, [[5, 6], [7, 8]], 0)\n",
    "      43\n",
    "      >>> row_times_column([[1, 2], [3, 4]], 1, [[5, 6], [7, 8]], 1)\n",
    "      50\n",
    "    \"\"\"\n",
    "    return np.dot(np.array(m1)[row,],np.array(m2)[:,column])\n",
    "\n",
    "if __name__ == \"__main__\" :\n",
    "    import doctest\n",
    "    doctest.run_docstring_examples(row_times_column, globals(), verbose = True)"
   ]
  },
  {
   "cell_type": "code",
   "execution_count": 8,
   "metadata": {},
   "outputs": [
    {
     "name": "stdout",
     "output_type": "stream",
     "text": [
      "Finding tests in NoName\n",
      "Trying:\n",
      "    matrix_mult([[1, 2], [3,  4]], [[5, 6], [7, 8]])\n",
      "Expecting:\n",
      "    [[19, 22], [43, 50]]\n",
      "ok\n",
      "Trying:\n",
      "    matrix_mult([[1, 2, 3], [4,  5, 6]], [[7, 8], [9, 1], [2, 3]])\n",
      "Expecting:\n",
      "    [[31, 19], [85, 55]]\n",
      "ok\n",
      "Trying:\n",
      "    matrix_mult([[7, 8], [9, 1], [2, 3]], [[1, 2, 3], [4, 5, 6]])\n",
      "Expecting:\n",
      "    [[39, 54, 69], [13, 23, 33], [14, 19, 24]]\n",
      "ok\n"
     ]
    }
   ],
   "source": [
    "def matrix_mult(m1, m2):\n",
    "    \"\"\"\n",
    "      >>> matrix_mult([[1, 2], [3,  4]], [[5, 6], [7, 8]])\n",
    "      [[19, 22], [43, 50]]\n",
    "      >>> matrix_mult([[1, 2, 3], [4,  5, 6]], [[7, 8], [9, 1], [2, 3]])\n",
    "      [[31, 19], [85, 55]]\n",
    "      >>> matrix_mult([[7, 8], [9, 1], [2, 3]], [[1, 2, 3], [4, 5, 6]])\n",
    "      [[39, 54, 69], [13, 23, 33], [14, 19, 24]]\n",
    "    \"\"\"\n",
    "    rows=[]\n",
    "    for j in range(len(m2[0])):\n",
    "        elem=[]\n",
    "        for i in range(len(m1)):\n",
    "            prod=np.dot(np.array(m1)[j,],np.array(m2)[:,i])\n",
    "            elem.append(prod)\n",
    "        rows.append(elem)\n",
    "    return  rows\n",
    "\n",
    "if __name__ == \"__main__\" :\n",
    "    import doctest\n",
    "    doctest.run_docstring_examples(matrix_mult, globals(), verbose = True)"
   ]
  },
  {
   "cell_type": "markdown",
   "metadata": {},
   "source": [
    "6. Write a function __transpose__ that takes a matrix as an argument and returns is transpose"
   ]
  },
  {
   "cell_type": "code",
   "execution_count": 9,
   "metadata": {},
   "outputs": [
    {
     "name": "stdout",
     "output_type": "stream",
     "text": [
      "Finding tests in NoName\n",
      "Trying:\n",
      "    m = [[3, 4, 6]]\n",
      "Expecting nothing\n",
      "ok\n",
      "Trying:\n",
      "    transpose(m)\n",
      "Expecting:\n",
      "    [[3], [4], [6]]\n",
      "ok\n",
      "Trying:\n",
      "    m\n",
      "Expecting:\n",
      "    [[3, 4, 6]]\n",
      "ok\n",
      "Trying:\n",
      "    m = [[3, 4, 6], [1, 5, 9]]\n",
      "Expecting nothing\n",
      "ok\n",
      "Trying:\n",
      "    transpose(m)\n",
      "Expecting:\n",
      "    [[3, 1], [4, 5], [6, 9]]\n",
      "ok\n"
     ]
    }
   ],
   "source": [
    "def transpose(m):\n",
    "    \"\"\"\n",
    "     >>> m = [[3, 4, 6]]\n",
    "     >>> transpose(m)\n",
    "     [[3], [4], [6]]\n",
    "     >>> m\n",
    "     [[3, 4, 6]]\n",
    "     >>> m = [[3, 4, 6], [1, 5, 9]]\n",
    "     >>> transpose(m)\n",
    "     [[3, 1], [4, 5], [6, 9]]\n",
    "   \"\"\"\n",
    "    x = deepcopy(m)\n",
    "    return [[x[j][i] for j in range(len(x))] for i in range(len(x[0]))]\n",
    "\n",
    "if __name__ == \"__main__\" :\n",
    "    import doctest\n",
    "    doctest.run_docstring_examples(transpose, globals(), verbose = True)"
   ]
  }
 ],
 "metadata": {
  "kernelspec": {
   "display_name": "Python 3",
   "language": "python",
   "name": "python3"
  },
  "language_info": {
   "codemirror_mode": {
    "name": "ipython",
    "version": 3
   },
   "file_extension": ".py",
   "mimetype": "text/x-python",
   "name": "python",
   "nbconvert_exporter": "python",
   "pygments_lexer": "ipython3",
   "version": "3.7.3"
  }
 },
 "nbformat": 4,
 "nbformat_minor": 2
}
