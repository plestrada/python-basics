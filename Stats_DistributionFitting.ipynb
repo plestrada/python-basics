{
 "cells": [
  {
   "cell_type": "markdown",
   "metadata": {},
   "source": [
    "# Fitting a distribution to observations"
   ]
  },
  {
   "cell_type": "code",
   "execution_count": 1,
   "metadata": {},
   "outputs": [],
   "source": [
    "import pandas as pd\n",
    "import numpy as np\n",
    "import matplotlib.pyplot as plt"
   ]
  },
  {
   "cell_type": "markdown",
   "metadata": {},
   "source": [
    "## Problem 1:\n",
    "\n",
    "We have the following field data for time to failure of a pump (in hours): \n",
    "\n",
    "3568 2599 3681 3100 2772 3272 3529 1770 2951 3024 3761 3671 2977 3110 2567 3341 2825 3921 2498 2447 3615 2601 2185 3324 2892 2942 3992 2924 3544 3359 2702 3658 3089 3272 2833 3090 1879 2151 2371 2936\n",
    "\n",
    "What is the probability that the pump will fail after it has worked for at least 2000 hours? Provide a 95% confidence interval for your estimate.\n",
    "\n",
    "Steps:\n",
    "- Fit a normal distibution.\n",
    "- Use *bootstrap_confidence_intervals* to calculate probability and confidence interval."
   ]
  },
  {
   "cell_type": "code",
   "execution_count": 2,
   "metadata": {},
   "outputs": [],
   "source": [
    "pump=[3568, 2599, 3681, 3100, 2772, 3272, 3529, 1770, 2951, 3024, 3761, 3671, 2977, 3110, 2567, 3341, 2825, 3921, 2498, 2447, 3615, 2601, 2185, 3324, 2892, 2942, 3992, 2924, 3544, 3359, 2702, 3658, 3089, 3272, 2833, 3090, 1879, 2151, 2371, 2936]"
   ]
  },
  {
   "cell_type": "code",
   "execution_count": 3,
   "metadata": {},
   "outputs": [
    {
     "data": {
      "text/plain": [
       "Text(0.5, 0, 'Time to failure of a pump')"
      ]
     },
     "execution_count": 3,
     "metadata": {},
     "output_type": "execute_result"
    },
    {
     "data": {
      "image/png": "[encoded data removed]",
      "text/plain": [
       "<Figure size 432x288 with 1 Axes>"
      ]
     },
     "metadata": {
      "needs_background": "light"
     },
     "output_type": "display_data"
    }
   ],
   "source": [
    "N = len(pump)\n",
    "\n",
    "plt.hist(pump, density=True, alpha=0.5)\n",
    "plt.title(\"Failure of Pump data (n={})\".format(N))\n",
    "plt.xlabel(\"Time to failure of a pump\")"
   ]
  },
  {
   "cell_type": "code",
   "execution_count": 4,
   "metadata": {},
   "outputs": [
    {
     "data": {
      "image/png": "[encoded data removed]",
      "text/plain": [
       "<Figure size 432x288 with 1 Axes>"
      ]
     },
     "metadata": {
      "needs_background": "light"
     },
     "output_type": "display_data"
    }
   ],
   "source": [
    "import scipy.stats\n",
    "\n",
    "plt.hist(pump, density=True, alpha=0.5)\n",
    "\n",
    "mu, std = scipy.stats.norm.fit(pump)\n",
    "x = np.linspace(min(pump), max(pump),40)\n",
    "p = scipy.stats.norm.pdf(x, mu, std)\n",
    "plt.plot(x, p, 'r', linewidth=2)\n",
    "plt.title(\"Normal fit on failure of pump data, mean = %d, std = %d\" %(mu,std))\n",
    "plt.xlabel(\"Time to failure of a pump\")\n",
    "\n",
    "plt.show()"
   ]
  },
  {
   "cell_type": "code",
   "execution_count": 5,
   "metadata": {},
   "outputs": [],
   "source": [
    "def bootstrap_confidence_intervals(data, estimator, percentiles, runs=1000):\n",
    "    replicates= np.empty(runs)\n",
    "    for i in range(runs):\n",
    "        replicates[i]= estimator(np.random.choice(data,len(data), replace=True))\n",
    "    est= np.mean(replicates)\n",
    "    ci = np.percentile(np.sort(replicates), percentiles)\n",
    "    return(est, ci)"
   ]
  },
  {
   "cell_type": "code",
   "execution_count": 6,
   "metadata": {},
   "outputs": [
    {
     "data": {
      "text/plain": [
       "(0.9706681629713838, array([0.92671597, 0.9949824 ]))"
      ]
     },
     "execution_count": 6,
     "metadata": {},
     "output_type": "execute_result"
    }
   ],
   "source": [
    "def estimator_(pump):\n",
    "    mu, std = scipy.stats.norm.fit(pump)\n",
    "    return 1-scipy.stats.norm(mu, std).cdf(2000)\n",
    "\n",
    "percentiles=[2.5,97.5]\n",
    "bootstrap_confidence_intervals(pump,estimator_, percentiles, runs=1000)"
   ]
  },
  {
   "cell_type": "markdown",
   "metadata": {},
   "source": [
    "## Problem 2:\n",
    "Let us examine a histogram of wind speed data from TLSairport, in 2013.\n",
    "\n",
    "https://risk-engineering.org/static/data/TLS-weather-data-2013.csv\n",
    "\n",
    "Steps:\n",
    "- Plot the distribution of the column \"Mean Wind SpeedKm/h\".\n",
    "- Fit a normal distribution.\n",
    "- Examine QQ-plot and do a KS test.\n",
    "- How good is the fit?\n",
    "\n",
    "- Try to fit a lognormal distribution.\n",
    "- Examine QQ-plot and do a KS test.\n",
    "- How good is the fit compared to the normal distribution?"
   ]
  },
  {
   "cell_type": "code",
   "execution_count": 7,
   "metadata": {},
   "outputs": [],
   "source": [
    "data_2 = pd.read_csv(\"https://risk-engineering.org/static/data/TLS-weather-data-2013.csv\", header=0, squeeze=True)"
   ]
  },
  {
   "cell_type": "code",
   "execution_count": 8,
   "metadata": {},
   "outputs": [
    {
     "data": {
      "text/html": [
       "<div>\n",
       "<style scoped>\n",
       "    .dataframe tbody tr th:only-of-type {\n",
       "        vertical-align: middle;\n",
       "    }\n",
       "\n",
       "    .dataframe tbody tr th {\n",
       "        vertical-align: top;\n",
       "    }\n",
       "\n",
       "    .dataframe thead th {\n",
       "        text-align: right;\n",
       "    }\n",
       "</style>\n",
       "<table border=\"1\" class=\"dataframe\">\n",
       "  <thead>\n",
       "    <tr style=\"text-align: right;\">\n",
       "      <th></th>\n",
       "      <th>CET</th>\n",
       "      <th>Max TemperatureC</th>\n",
       "      <th>Mean TemperatureC</th>\n",
       "      <th>Min TemperatureC</th>\n",
       "      <th>Dew PointC</th>\n",
       "      <th>MeanDew PointC</th>\n",
       "      <th>Min DewpointC</th>\n",
       "      <th>Max Humidity</th>\n",
       "      <th>Mean Humidity</th>\n",
       "      <th>Min Humidity</th>\n",
       "      <th>...</th>\n",
       "      <th>Max VisibilityKm</th>\n",
       "      <th>Mean VisibilityKm</th>\n",
       "      <th>Min VisibilitykM</th>\n",
       "      <th>Max Wind SpeedKm/h</th>\n",
       "      <th>Mean Wind SpeedKm/h</th>\n",
       "      <th>Max Gust SpeedKm/h</th>\n",
       "      <th>Precipitationmm</th>\n",
       "      <th>CloudCover</th>\n",
       "      <th>Events</th>\n",
       "      <th>WindDirDegrees</th>\n",
       "    </tr>\n",
       "  </thead>\n",
       "  <tbody>\n",
       "    <tr>\n",
       "      <th>0</th>\n",
       "      <td>2013-1-1</td>\n",
       "      <td>12</td>\n",
       "      <td>9</td>\n",
       "      <td>6</td>\n",
       "      <td>8</td>\n",
       "      <td>7</td>\n",
       "      <td>5</td>\n",
       "      <td>93</td>\n",
       "      <td>86</td>\n",
       "      <td>76</td>\n",
       "      <td>...</td>\n",
       "      <td>31</td>\n",
       "      <td>10</td>\n",
       "      <td>5</td>\n",
       "      <td>26</td>\n",
       "      <td>14</td>\n",
       "      <td>NaN</td>\n",
       "      <td>5.08</td>\n",
       "      <td>7.0</td>\n",
       "      <td>Rain</td>\n",
       "      <td>234</td>\n",
       "    </tr>\n",
       "    <tr>\n",
       "      <th>1</th>\n",
       "      <td>2013-1-2</td>\n",
       "      <td>9</td>\n",
       "      <td>7</td>\n",
       "      <td>4</td>\n",
       "      <td>6</td>\n",
       "      <td>4</td>\n",
       "      <td>2</td>\n",
       "      <td>93</td>\n",
       "      <td>86</td>\n",
       "      <td>71</td>\n",
       "      <td>...</td>\n",
       "      <td>31</td>\n",
       "      <td>11</td>\n",
       "      <td>10</td>\n",
       "      <td>23</td>\n",
       "      <td>16</td>\n",
       "      <td>NaN</td>\n",
       "      <td>0.00</td>\n",
       "      <td>5.0</td>\n",
       "      <td>NaN</td>\n",
       "      <td>298</td>\n",
       "    </tr>\n",
       "    <tr>\n",
       "      <th>2</th>\n",
       "      <td>2013-1-3</td>\n",
       "      <td>8</td>\n",
       "      <td>4</td>\n",
       "      <td>0</td>\n",
       "      <td>4</td>\n",
       "      <td>2</td>\n",
       "      <td>-1</td>\n",
       "      <td>100</td>\n",
       "      <td>87</td>\n",
       "      <td>69</td>\n",
       "      <td>...</td>\n",
       "      <td>19</td>\n",
       "      <td>10</td>\n",
       "      <td>10</td>\n",
       "      <td>13</td>\n",
       "      <td>5</td>\n",
       "      <td>NaN</td>\n",
       "      <td>0.00</td>\n",
       "      <td>5.0</td>\n",
       "      <td>NaN</td>\n",
       "      <td>118</td>\n",
       "    </tr>\n",
       "    <tr>\n",
       "      <th>3</th>\n",
       "      <td>2013-1-4</td>\n",
       "      <td>7</td>\n",
       "      <td>6</td>\n",
       "      <td>5</td>\n",
       "      <td>7</td>\n",
       "      <td>6</td>\n",
       "      <td>4</td>\n",
       "      <td>100</td>\n",
       "      <td>94</td>\n",
       "      <td>83</td>\n",
       "      <td>...</td>\n",
       "      <td>10</td>\n",
       "      <td>6</td>\n",
       "      <td>1</td>\n",
       "      <td>10</td>\n",
       "      <td>5</td>\n",
       "      <td>NaN</td>\n",
       "      <td>0.00</td>\n",
       "      <td>8.0</td>\n",
       "      <td>Fog</td>\n",
       "      <td>292</td>\n",
       "    </tr>\n",
       "    <tr>\n",
       "      <th>4</th>\n",
       "      <td>2013-1-5</td>\n",
       "      <td>7</td>\n",
       "      <td>6</td>\n",
       "      <td>5</td>\n",
       "      <td>6</td>\n",
       "      <td>6</td>\n",
       "      <td>4</td>\n",
       "      <td>100</td>\n",
       "      <td>94</td>\n",
       "      <td>90</td>\n",
       "      <td>...</td>\n",
       "      <td>11</td>\n",
       "      <td>9</td>\n",
       "      <td>2</td>\n",
       "      <td>16</td>\n",
       "      <td>8</td>\n",
       "      <td>NaN</td>\n",
       "      <td>0.00</td>\n",
       "      <td>8.0</td>\n",
       "      <td>NaN</td>\n",
       "      <td>306</td>\n",
       "    </tr>\n",
       "  </tbody>\n",
       "</table>\n",
       "<p>5 rows × 23 columns</p>\n",
       "</div>"
      ],
      "text/plain": [
       "        CET  Max TemperatureC  Mean TemperatureC  Min TemperatureC  \\\n",
       "0  2013-1-1                12                  9                 6   \n",
       "1  2013-1-2                 9                  7                 4   \n",
       "2  2013-1-3                 8                  4                 0   \n",
       "3  2013-1-4                 7                  6                 5   \n",
       "4  2013-1-5                 7                  6                 5   \n",
       "\n",
       "   Dew PointC  MeanDew PointC  Min DewpointC  Max Humidity  Mean Humidity  \\\n",
       "0           8               7              5            93             86   \n",
       "1           6               4              2            93             86   \n",
       "2           4               2             -1           100             87   \n",
       "3           7               6              4           100             94   \n",
       "4           6               6              4           100             94   \n",
       "\n",
       "   Min Humidity  ...  Max VisibilityKm  Mean VisibilityKm  Min VisibilitykM  \\\n",
       "0            76  ...                31                 10                 5   \n",
       "1            71  ...                31                 11                10   \n",
       "2            69  ...                19                 10                10   \n",
       "3            83  ...                10                  6                 1   \n",
       "4            90  ...                11                  9                 2   \n",
       "\n",
       "   Max Wind SpeedKm/h  Mean Wind SpeedKm/h  Max Gust SpeedKm/h  \\\n",
       "0                  26                   14                 NaN   \n",
       "1                  23                   16                 NaN   \n",
       "2                  13                    5                 NaN   \n",
       "3                  10                    5                 NaN   \n",
       "4                  16                    8                 NaN   \n",
       "\n",
       "   Precipitationmm  CloudCover  Events  WindDirDegrees  \n",
       "0             5.08         7.0    Rain             234  \n",
       "1             0.00         5.0     NaN             298  \n",
       "2             0.00         5.0     NaN             118  \n",
       "3             0.00         8.0     Fog             292  \n",
       "4             0.00         8.0     NaN             306  \n",
       "\n",
       "[5 rows x 23 columns]"
      ]
     },
     "execution_count": 8,
     "metadata": {},
     "output_type": "execute_result"
    }
   ],
   "source": [
    "data_2.head()"
   ]
  },
  {
   "cell_type": "code",
   "execution_count": 9,
   "metadata": {},
   "outputs": [
    {
     "data": {
      "text/plain": [
       "Index(['CET', 'Max TemperatureC', 'Mean TemperatureC', 'Min TemperatureC',\n",
       "       'Dew PointC', 'MeanDew PointC', 'Min DewpointC', 'Max Humidity',\n",
       "       'Mean Humidity', 'Min Humidity', 'Max Sea Level PressurehPa',\n",
       "       'Mean Sea Level PressurehPa', 'Min Sea Level PressurehPa',\n",
       "       'Max VisibilityKm', 'Mean VisibilityKm', 'Min VisibilitykM',\n",
       "       'Max Wind SpeedKm/h', 'Mean Wind SpeedKm/h', 'Max Gust SpeedKm/h',\n",
       "       'Precipitationmm', 'CloudCover', 'Events', 'WindDirDegrees'],\n",
       "      dtype='object')"
      ]
     },
     "execution_count": 9,
     "metadata": {},
     "output_type": "execute_result"
    }
   ],
   "source": [
    "data_2.columns"
   ]
  },
  {
   "cell_type": "code",
   "execution_count": 10,
   "metadata": {},
   "outputs": [
    {
     "data": {
      "text/html": [
       "<div>\n",
       "<style scoped>\n",
       "    .dataframe tbody tr th:only-of-type {\n",
       "        vertical-align: middle;\n",
       "    }\n",
       "\n",
       "    .dataframe tbody tr th {\n",
       "        vertical-align: top;\n",
       "    }\n",
       "\n",
       "    .dataframe thead th {\n",
       "        text-align: right;\n",
       "    }\n",
       "</style>\n",
       "<table border=\"1\" class=\"dataframe\">\n",
       "  <thead>\n",
       "    <tr style=\"text-align: right;\">\n",
       "      <th></th>\n",
       "      <th>Mean Wind SpeedKm/h</th>\n",
       "    </tr>\n",
       "  </thead>\n",
       "  <tbody>\n",
       "    <tr>\n",
       "      <th>0</th>\n",
       "      <td>14</td>\n",
       "    </tr>\n",
       "    <tr>\n",
       "      <th>1</th>\n",
       "      <td>16</td>\n",
       "    </tr>\n",
       "    <tr>\n",
       "      <th>2</th>\n",
       "      <td>5</td>\n",
       "    </tr>\n",
       "    <tr>\n",
       "      <th>3</th>\n",
       "      <td>5</td>\n",
       "    </tr>\n",
       "    <tr>\n",
       "      <th>4</th>\n",
       "      <td>8</td>\n",
       "    </tr>\n",
       "  </tbody>\n",
       "</table>\n",
       "</div>"
      ],
      "text/plain": [
       "   Mean Wind SpeedKm/h\n",
       "0                   14\n",
       "1                   16\n",
       "2                    5\n",
       "3                    5\n",
       "4                    8"
      ]
     },
     "execution_count": 10,
     "metadata": {},
     "output_type": "execute_result"
    }
   ],
   "source": [
    "data_2[['Mean Wind SpeedKm/h']].head()"
   ]
  },
  {
   "cell_type": "code",
   "execution_count": 11,
   "metadata": {},
   "outputs": [
    {
     "data": {
      "text/plain": [
       "Text(0.5, 0, 'Wind Speed, Km/h')"
      ]
     },
     "execution_count": 11,
     "metadata": {},
     "output_type": "execute_result"
    },
    {
     "data": {
      "image/png": "[encoded data removed]",
      "text/plain": [
       "<Figure size 432x288 with 1 Axes>"
      ]
     },
     "metadata": {
      "needs_background": "light"
     },
     "output_type": "display_data"
    }
   ],
   "source": [
    "N = 46 #non-missing values\n",
    "\n",
    "windspeed=data_2['Mean Wind SpeedKm/h']\n",
    "\n",
    "plt.hist(windspeed, density=True, alpha=0.5)\n",
    "plt.title(\"Mean Wind Speed, Km/h (n={})\".format(N))\n",
    "plt.xlabel(\"Wind Speed, Km/h\")"
   ]
  },
  {
   "cell_type": "code",
   "execution_count": 12,
   "metadata": {},
   "outputs": [
    {
     "data": {
      "image/png": "[encoded data removed]",
      "text/plain": [
       "<Figure size 432x288 with 1 Axes>"
      ]
     },
     "metadata": {
      "needs_background": "light"
     },
     "output_type": "display_data"
    }
   ],
   "source": [
    "plt.hist(windspeed, density=True, alpha=0.5)\n",
    "\n",
    "mu, std = scipy.stats.norm.fit(windspeed)\n",
    "x = np.linspace(min(windspeed), max(windspeed),46)\n",
    "p = scipy.stats.norm.pdf(x, mu, std)\n",
    "plt.plot(x, p, 'r', linewidth=2)\n",
    "plt.title(\"Normal fit on Wind Speed data, mean = %d, std = %d\" %(mu,std))\n",
    "plt.xlabel(\"Wind Speed, Km/h\")\n",
    "\n",
    "plt.show()"
   ]
  },
  {
   "cell_type": "code",
   "execution_count": 13,
   "metadata": {},
   "outputs": [
    {
     "data": {
      "text/plain": [
       "Text(0.5, 1.0, 'Normal QQ-plot of Wind Speed data')"
      ]
     },
     "execution_count": 13,
     "metadata": {},
     "output_type": "execute_result"
    },
    {
     "data": {
      "image/png": "[encoded data removed]",
      "text/plain": [
       "<Figure size 432x288 with 1 Axes>"
      ]
     },
     "metadata": {
      "needs_background": "light"
     },
     "output_type": "display_data"
    }
   ],
   "source": [
    "scipy.stats.probplot(windspeed, sparams=(mu, std), dist='norm', plot=plt.figure().add_subplot(111))\n",
    "\n",
    "plt.title(\"Normal QQ-plot of Wind Speed data\")"
   ]
  },
  {
   "cell_type": "code",
   "execution_count": 14,
   "metadata": {},
   "outputs": [
    {
     "data": {
      "text/plain": [
       "KstestResult(statistic=0.9986501019683699, pvalue=0.0)"
      ]
     },
     "execution_count": 14,
     "metadata": {},
     "output_type": "execute_result"
    }
   ],
   "source": [
    "from scipy.stats import kstest\n",
    "kstest(windspeed, \"norm\")"
   ]
  },
  {
   "cell_type": "code",
   "execution_count": 15,
   "metadata": {},
   "outputs": [
    {
     "data": {
      "image/png": "[encoded data removed]",
      "text/plain": [
       "<Figure size 432x288 with 1 Axes>"
      ]
     },
     "metadata": {
      "needs_background": "light"
     },
     "output_type": "display_data"
    }
   ],
   "source": [
    "plt.hist(windspeed, density=True, alpha=0.5)\n",
    "\n",
    "\n",
    "s, mu, std =scipy.stats.lognorm.fit(windspeed)\n",
    "x = np.linspace(min(windspeed), max(windspeed),46)\n",
    "p = scipy.stats.lognorm.pdf(x, s, mu, std)\n",
    "plt.plot(x, p, 'r', linewidth=2)\n",
    "plt.title(\"Lognorm fit on Wind Speed data\")\n",
    "plt.xlabel(\"Wind Speed, Km/h\")\n",
    "\n",
    "plt.show()"
   ]
  },
  {
   "cell_type": "code",
   "execution_count": 16,
   "metadata": {},
   "outputs": [
    {
     "data": {
      "text/plain": [
       "Text(0.5, 1.0, 'Lognorm QQ-plot of Wind Speed data')"
      ]
     },
     "execution_count": 16,
     "metadata": {},
     "output_type": "execute_result"
    },
    {
     "data": {
      "image/png": "[encoded data removed]",
      "text/plain": [
       "<Figure size 432x288 with 1 Axes>"
      ]
     },
     "metadata": {
      "needs_background": "light"
     },
     "output_type": "display_data"
    }
   ],
   "source": [
    "scipy.stats.probplot(windspeed, sparams=(s, mu, std), dist='lognorm', plot=plt.figure().add_subplot(111))\n",
    "\n",
    "plt.title(\"Lognorm QQ-plot of Wind Speed data\")"
   ]
  },
  {
   "cell_type": "code",
   "execution_count": 17,
   "metadata": {},
   "outputs": [
    {
     "data": {
      "text/plain": [
       "KstestResult(statistic=0.0754445241784745, pvalue=0.029747000164761738)"
      ]
     },
     "execution_count": 17,
     "metadata": {},
     "output_type": "execute_result"
    }
   ],
   "source": [
    "kstest(windspeed,  \"lognorm\", scipy.stats.lognorm.fit(windspeed))"
   ]
  },
  {
   "cell_type": "markdown",
   "metadata": {},
   "source": [
    "Lognorm is a better fit for wind speed data at 0.99 level of confidence."
   ]
  },
  {
   "cell_type": "markdown",
   "metadata": {},
   "source": [
    "## Problem 3\n",
    "\n",
    "1. Download heat flow meter data collected by B. Zarr (NIST, 1990)\n",
    "\n",
    "https://www.itl.nist.gov/div898/handbook/eda/section4/eda4281.htm\n",
    "\n",
    "2. Plot a histogram for the data\n",
    "\n",
    "3. Generate a normal quantile-quantile plot to check whether the measurements fit a normal (Gaussian) distribution.\n",
    "\n",
    "4. Fit a normal distribution to the data.\n",
    "\n",
    "5. Calculate the mean and the standard deviation.\n",
    "\n",
    "6. Do a KS test.\n",
    "\n",
    "7. Estimate the 95% confidence interval for the population mean, using the bootstrap technique."
   ]
  },
  {
   "cell_type": "code",
   "execution_count": 18,
   "metadata": {},
   "outputs": [],
   "source": [
    "calibration = pd.read_csv(\"https://www.itl.nist.gov/div898/handbook/datasets/ZARR13.DAT\", squeeze=True, skiprows=25)"
   ]
  },
  {
   "cell_type": "code",
   "execution_count": 19,
   "metadata": {},
   "outputs": [
    {
     "data": {
      "text/plain": [
       "0      9.299992\n",
       "1      9.277895\n",
       "2      9.305795\n",
       "3      9.275351\n",
       "4      9.288729\n",
       "         ...   \n",
       "189    9.232963\n",
       "190    9.234956\n",
       "191    9.216746\n",
       "192    9.274107\n",
       "193    9.273776\n",
       "Name: 9.206343, Length: 194, dtype: float64"
      ]
     },
     "execution_count": 19,
     "metadata": {},
     "output_type": "execute_result"
    }
   ],
   "source": [
    "calibration"
   ]
  },
  {
   "cell_type": "code",
   "execution_count": 20,
   "metadata": {},
   "outputs": [
    {
     "data": {
      "text/plain": [
       "(9.15, 9.35)"
      ]
     },
     "execution_count": 20,
     "metadata": {},
     "output_type": "execute_result"
    },
    {
     "data": {
      "image/png": "[encoded data removed]",
      "text/plain": [
       "<Figure size 432x288 with 1 Axes>"
      ]
     },
     "metadata": {
      "needs_background": "light"
     },
     "output_type": "display_data"
    }
   ],
   "source": [
    "N = len(calibration)\n",
    "\n",
    "plt.hist(calibration, density=True, alpha=0.5)\n",
    "plt.title(\"Heat Flow (n={})\".format(N))\n",
    "plt.xlabel(\"Calibration Factor\")\n",
    "plt.xlim(9.15,9.35)"
   ]
  },
  {
   "cell_type": "code",
   "execution_count": 21,
   "metadata": {},
   "outputs": [
    {
     "data": {
      "image/png": "[encoded data removed]",
      "text/plain": [
       "<Figure size 432x288 with 1 Axes>"
      ]
     },
     "metadata": {
      "needs_background": "light"
     },
     "output_type": "display_data"
    }
   ],
   "source": [
    "plt.hist(calibration, density=True, alpha=0.5)\n",
    "\n",
    "mu, std = scipy.stats.norm.fit(calibration)\n",
    "x = np.linspace(calibration.min(), calibration.max(),194)\n",
    "p = scipy.stats.norm.pdf(x, mu, std)\n",
    "plt.plot(x, p, 'r', linewidth=2)\n",
    "plt.title(\"Normal fit on Calibration data, mean = %.6f, std = %.6f\" %(mu,std))\n",
    "plt.xlabel(\"Calibration Factor\")\n",
    "plt.xlim(9.15,9.35)\n",
    "\n",
    "plt.show()"
   ]
  },
  {
   "cell_type": "code",
   "execution_count": 22,
   "metadata": {},
   "outputs": [
    {
     "name": "stdout",
     "output_type": "stream",
     "text": [
      "Mean: 9.261745\n",
      "Standard Deviation: 0.022441\n"
     ]
    }
   ],
   "source": [
    "print(\"Mean: %.6f\"%(mu))\n",
    "print(\"Standard Deviation: %.6f\"%(std))"
   ]
  },
  {
   "cell_type": "code",
   "execution_count": 23,
   "metadata": {},
   "outputs": [
    {
     "data": {
      "text/plain": [
       "KstestResult(statistic=1.0, pvalue=0.0)"
      ]
     },
     "execution_count": 23,
     "metadata": {},
     "output_type": "execute_result"
    }
   ],
   "source": [
    "kstest(calibration, \"norm\")"
   ]
  },
  {
   "cell_type": "code",
   "execution_count": 24,
   "metadata": {},
   "outputs": [
    {
     "data": {
      "text/plain": [
       "(9.261676376541239, array([9.25873398, 9.26503103]))"
      ]
     },
     "execution_count": 24,
     "metadata": {},
     "output_type": "execute_result"
    }
   ],
   "source": [
    "percentiles=[2.5,97.5]\n",
    "bootstrap_confidence_intervals(calibration, np.mean, percentiles, runs=1000)"
   ]
  }
 ],
 "metadata": {
  "kernelspec": {
   "display_name": "Python 3",
   "language": "python",
   "name": "python3"
  },
  "language_info": {
   "codemirror_mode": {
    "name": "ipython",
    "version": 3
   },
   "file_extension": ".py",
   "mimetype": "text/x-python",
   "name": "python",
   "nbconvert_exporter": "python",
   "pygments_lexer": "ipython3",
   "version": "3.7.3"
  }
 },
 "nbformat": 4,
 "nbformat_minor": 4
}
