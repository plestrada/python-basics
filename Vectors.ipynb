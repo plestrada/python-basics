{
 "cells": [
  {
   "cell_type": "markdown",
   "metadata": {},
   "source": [
    "# Exercises on vectors"
   ]
  },
  {
   "cell_type": "code",
   "execution_count": 1,
   "metadata": {},
   "outputs": [],
   "source": [
    "import numpy as np"
   ]
  },
  {
   "cell_type": "markdown",
   "metadata": {},
   "source": [
    "1. Write a function __add_vectors(u, v)__ that takes two lists of numbers of the same length, and returns a new list containing the sums of the corresponding elements of each."
   ]
  },
  {
   "cell_type": "code",
   "execution_count": 2,
   "metadata": {},
   "outputs": [
    {
     "name": "stdout",
     "output_type": "stream",
     "text": [
      "Finding tests in NoName\n",
      "Trying:\n",
      "    add_vectors([1, 0], [1, 1])\n",
      "Expecting:\n",
      "    [2, 1]\n",
      "ok\n",
      "Trying:\n",
      "    add_vectors([1, 2], [1, 4])\n",
      "Expecting:\n",
      "    [2, 6]\n",
      "ok\n",
      "Trying:\n",
      "    add_vectors([1, 2, 1], [1, 4, 3])\n",
      "Expecting:\n",
      "    [2, 6, 4]\n",
      "ok\n",
      "Trying:\n",
      "    add_vectors([11, 0, -4, 5], [2, -4, 17, 0])\n",
      "Expecting:\n",
      "    [13, -4, 13, 5]\n",
      "ok\n",
      "Trying:\n",
      "    a = [1, 2, 3]\n",
      "Expecting nothing\n",
      "ok\n",
      "Trying:\n",
      "    b = [1, 1, 1]\n",
      "Expecting nothing\n",
      "ok\n",
      "Trying:\n",
      "    add_vectors(a, b)\n",
      "Expecting:\n",
      "    [2, 3, 4]\n",
      "ok\n",
      "Trying:\n",
      "    a\n",
      "Expecting:\n",
      "    [1, 2, 3]\n",
      "ok\n",
      "Trying:\n",
      "    b\n",
      "Expecting:\n",
      "    [1, 1, 1]\n",
      "ok\n"
     ]
    }
   ],
   "source": [
    "def add_vectors(u, v):\n",
    "    \"\"\"\n",
    "      >>> add_vectors([1, 0], [1, 1])\n",
    "      [2, 1]\n",
    "      >>> add_vectors([1, 2], [1, 4])\n",
    "      [2, 6]\n",
    "      >>> add_vectors([1, 2, 1], [1, 4, 3])\n",
    "      [2, 6, 4]\n",
    "      >>> add_vectors([11, 0, -4, 5], [2, -4, 17, 0])\n",
    "      [13, -4, 13, 5]\n",
    "      >>> a = [1, 2, 3]\n",
    "      >>> b = [1, 1, 1]\n",
    "      >>> add_vectors(a, b)\n",
    "      [2, 3, 4]\n",
    "      >>> a\n",
    "      [1, 2, 3]\n",
    "      >>> b\n",
    "      [1, 1, 1]\n",
    "    \"\"\"\n",
    "    return list(np.array(u)+np.array(v))\n",
    "\n",
    "if __name__ == \"__main__\":\n",
    "    import doctest\n",
    "    doctest.run_docstring_examples(add_vectors, globals(), verbose = True)"
   ]
  },
  {
   "cell_type": "markdown",
   "metadata": {},
   "source": [
    "2. Write a function __scalar_mult(s, v)__ that takes a number, s, and a list, v and returns the scalar multiple of v by s."
   ]
  },
  {
   "cell_type": "code",
   "execution_count": 3,
   "metadata": {},
   "outputs": [
    {
     "name": "stdout",
     "output_type": "stream",
     "text": [
      "Finding tests in NoName\n",
      "Trying:\n",
      "    scalar_mult(5, [1, 2])\n",
      "Expecting:\n",
      "    [5, 10]\n",
      "ok\n",
      "Trying:\n",
      "    scalar_mult(3, [1, 0, -1])\n",
      "Expecting:\n",
      "    [3, 0, -3]\n",
      "ok\n",
      "Trying:\n",
      "    scalar_mult(7, [3, 0, 5, 11, 2])\n",
      "Expecting:\n",
      "    [21, 0, 35, 77, 14]\n",
      "ok\n",
      "Trying:\n",
      "    a = [1, 2, 3]\n",
      "Expecting nothing\n",
      "ok\n",
      "Trying:\n",
      "    scalar_mult(4, a)\n",
      "Expecting:\n",
      "    [4, 8, 12]\n",
      "ok\n",
      "Trying:\n",
      "    a\n",
      "Expecting:\n",
      "    [1, 2, 3]\n",
      "ok\n"
     ]
    }
   ],
   "source": [
    "def scalar_mult(s, v):\n",
    "    \"\"\"\n",
    "      >>> scalar_mult(5, [1, 2])\n",
    "      [5, 10]\n",
    "      >>> scalar_mult(3, [1, 0, -1])\n",
    "      [3, 0, -3]\n",
    "      >>> scalar_mult(7, [3, 0, 5, 11, 2])\n",
    "      [21, 0, 35, 77, 14]\n",
    "      >>> a = [1, 2, 3]\n",
    "      >>> scalar_mult(4, a)\n",
    "      [4, 8, 12]\n",
    "      >>> a\n",
    "      [1, 2, 3]\n",
    "    \"\"\"\n",
    "    return [i*s for i in v]\n",
    "\n",
    "if __name__ == \"__main__\":\n",
    "    import doctest\n",
    "    doctest.run_docstring_examples(scalar_mult, globals(), verbose = True)"
   ]
  },
  {
   "cell_type": "markdown",
   "metadata": {},
   "source": [
    "3. Write a function __dot_product(u, v)__ that takes two lists of numbers of the same length, and returns the sum of the products of the corresponding elements of each vector."
   ]
  },
  {
   "cell_type": "code",
   "execution_count": 4,
   "metadata": {},
   "outputs": [
    {
     "name": "stdout",
     "output_type": "stream",
     "text": [
      "Finding tests in NoName\n",
      "Trying:\n",
      "    dot_product([1, 1], [1, 1])\n",
      "Expecting:\n",
      "    2\n",
      "ok\n",
      "Trying:\n",
      "    dot_product([1, 2], [1, 4])\n",
      "Expecting:\n",
      "    9\n",
      "ok\n",
      "Trying:\n",
      "    dot_product([1, 2, 1], [1, 4, 3])\n",
      "Expecting:\n",
      "    12\n",
      "ok\n",
      "Trying:\n",
      "    dot_product([2, 0, -1, 1], [1, 5, 2, 0])\n",
      "Expecting:\n",
      "    0\n",
      "ok\n"
     ]
    }
   ],
   "source": [
    " def dot_product(u, v):\n",
    "    \"\"\"\n",
    "      >>> dot_product([1, 1], [1, 1])\n",
    "      2\n",
    "      >>> dot_product([1, 2], [1, 4])\n",
    "      9\n",
    "      >>> dot_product([1, 2, 1], [1, 4, 3])\n",
    "      12\n",
    "      >>> dot_product([2, 0, -1, 1], [1, 5, 2, 0])\n",
    "      0\n",
    "    \"\"\"\n",
    "    return np.sum(np.array(u)*np.array(v))\n",
    "\n",
    "if __name__ == \"__main__\":\n",
    "    import doctest\n",
    "    doctest.run_docstring_examples(dot_product, globals(), verbose = True)"
   ]
  },
  {
   "cell_type": "markdown",
   "metadata": {},
   "source": [
    "4. __Extra challenge for the mathematically inclined__: Add a function __cross_product(u, v)__ to your vectors.py module that takes two lists of numbers of length 3 and returns their cross product."
   ]
  },
  {
   "cell_type": "code",
   "execution_count": 5,
   "metadata": {},
   "outputs": [
    {
     "name": "stdout",
     "output_type": "stream",
     "text": [
      "Finding tests in NoName\n",
      "Trying:\n",
      "    u = [2, 3, 4]\n",
      "Expecting nothing\n",
      "ok\n",
      "Trying:\n",
      "    v = [5, 6, 7]\n",
      "Expecting nothing\n",
      "ok\n",
      "Trying:\n",
      "    cross_product(u, v)\n",
      "Expecting:\n",
      "    [-3, 6, -3]\n",
      "ok\n",
      "Trying:\n",
      "    u\n",
      "Expecting:\n",
      "    [2, 3, 4]\n",
      "ok\n",
      "Trying:\n",
      "    cross_product([1, 2, 3], [1, 5, 7])\n",
      "Expecting:\n",
      "    [-1, -4, 3]\n",
      "ok\n",
      "Trying:\n",
      "    cross_product([-1, -2, 3], [4, 0, -8])\n",
      "Expecting:\n",
      "    [16, 4, 8]\n",
      "ok\n"
     ]
    }
   ],
   "source": [
    "def cross_product(u, v):\n",
    "    \"\"\"\n",
    "     >>> u = [2, 3, 4]\n",
    "     >>> v = [5, 6, 7]\n",
    "     >>> cross_product(u, v)\n",
    "     [-3, 6, -3]\n",
    "     >>> u\n",
    "     [2, 3, 4]\n",
    "     >>> cross_product([1, 2, 3], [1, 5, 7])\n",
    "     [-1, -4, 3]\n",
    "     >>> cross_product([-1, -2, 3], [4, 0, -8])\n",
    "     [16, 4, 8]\n",
    "    \"\"\"\n",
    "    basis=np.array([1,-1,1])\n",
    "    cross=[]\n",
    "    for i in range(len(u)):\n",
    "        cross.append(0)\n",
    "        for j in range(len(u)):\n",
    "            if j != i:\n",
    "                for k in range(len(u)):\n",
    "                    if k != i:\n",
    "                        if k > j:\n",
    "                            cross[i] += u[j]*v[k]\n",
    "                        elif k < j:\n",
    "                            cross[i] -= u[j]*v[k]\n",
    "    \n",
    "    return  (cross*basis).tolist()\n",
    "\n",
    "if __name__ == \"__main__\" :\n",
    "    import doctest\n",
    "    doctest.run_docstring_examples(cross_product, globals(), verbose = True)"
   ]
  }
 ],
 "metadata": {
  "kernelspec": {
   "display_name": "Python 3",
   "language": "python",
   "name": "python3"
  },
  "language_info": {
   "codemirror_mode": {
    "name": "ipython",
    "version": 3
   },
   "file_extension": ".py",
   "mimetype": "text/x-python",
   "name": "python",
   "nbconvert_exporter": "python",
   "pygments_lexer": "ipython3",
   "version": "3.7.3"
  }
 },
 "nbformat": 4,
 "nbformat_minor": 2
}
